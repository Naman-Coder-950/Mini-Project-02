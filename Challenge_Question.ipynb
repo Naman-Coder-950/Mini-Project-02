{
  "nbformat": 4,
  "nbformat_minor": 0,
  "metadata": {
    "colab": {
      "provenance": [],
      "authorship_tag": "ABX9TyMn4s2AHMWFGV8T01zz4Dh6",
      "include_colab_link": true
    },
    "kernelspec": {
      "name": "python3",
      "display_name": "Python 3"
    },
    "language_info": {
      "name": "python"
    }
  },
  "cells": [
    {
      "cell_type": "markdown",
      "metadata": {
        "id": "view-in-github",
        "colab_type": "text"
      },
      "source": [
        "<a href=\"https://colab.research.google.com/github/Naman-Coder-950/Mini-Project-02/blob/main/Challenge_Question.ipynb\" target=\"_parent\"><img src=\"https://colab.research.google.com/assets/colab-badge.svg\" alt=\"Open In Colab\"/></a>"
      ]
    },
    {
      "cell_type": "code",
      "execution_count": 1,
      "metadata": {
        "colab": {
          "base_uri": "https://localhost:8080/"
        },
        "id": "hAGavf26foLy",
        "outputId": "a7acb3ec-4154-484c-abe2-5e5bd8f9a32f"
      },
      "outputs": [
        {
          "output_type": "stream",
          "name": "stdout",
          "text": [
            "Original List: ['Ram', 1, 'Shyam', 2, 'Aman', 3]\n",
            "Sorted List (Strings first, then Integers): ['Aman', 'Ram', 'Shyam', 1, 2, 3]\n"
          ]
        }
      ],
      "source": [
        "L = [\"Ram\", 1, \"Shyam\", 2, \"Aman\", 3]\n",
        "print(\"Original List:\", L)\n",
        "\n",
        "# Separate into strings and integers\n",
        "str_items = [x for x in L if isinstance(x, str)]\n",
        "int_items = [x for x in L if isinstance(x, int)]\n",
        "\n",
        "# Sort each list\n",
        "str_items.sort()\n",
        "int_items.sort()\n",
        "\n",
        "# Combine them (you can change the order as needed)\n",
        "sorted_L = str_items + int_items\n",
        "print(\"Sorted List (Strings first, then Integers):\", sorted_L)\n"
      ]
    }
  ]
}